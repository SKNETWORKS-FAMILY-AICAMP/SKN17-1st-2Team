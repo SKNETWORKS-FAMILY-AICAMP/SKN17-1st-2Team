{
 "cells": [
  {
   "cell_type": "markdown",
   "id": "d36cc2b9-02dc-4276-9a05-2c818b8e7a36",
   "metadata": {},
   "source": [
    "# 전국자동차종합정보 신규등록정보 서비스  "
   ]
  },
  {
   "cell_type": "markdown",
   "id": "c11d6f58-10df-4ea3-9108-ab37a6b0e774",
   "metadata": {},
   "source": [
    "데이터 설명 \n",
    "1. 제공 : 한국교통안전공단 \n",
    "2. 출처 : https://www.data.go.kr/tcs/dss/selectApiDataDetailView.do?publicDataPk=15059401\n",
    "\n",
    "- 코드 작성 : 맥북 os"
   ]
  },
  {
   "cell_type": "code",
   "execution_count": null,
   "id": "15f06802-5239-466f-93a2-c559d595918a",
   "metadata": {},
   "outputs": [],
   "source": []
  },
  {
   "cell_type": "code",
   "execution_count": 4,
   "id": "2ab1a88f-2c4c-4e62-bd0a-948ec0023802",
   "metadata": {},
   "outputs": [],
   "source": [
    "import requests\n",
    "#from bs4 import BeautifulSoup\n",
    "import xml.etree.ElementTree as ET\n",
    "import time\n",
    "import pandas as pd"
   ]
  },
  {
   "cell_type": "code",
   "execution_count": 9,
   "id": "11d170bf-51be-49c4-bd4e-04a4b313875b",
   "metadata": {},
   "outputs": [],
   "source": [
    "\n",
    "service_key = 'api'\n",
    "\n",
    "\n",
    "\n",
    "BASE = 'http://apis.data.go.kr/B553881/newRegistlnfoService_01/getnewRegistlnfoService'"
   ]
  },
  {
   "cell_type": "code",
   "execution_count": 6,
   "id": "1db46f07-68ec-4161-bad7-32e1c5ff826a",
   "metadata": {},
   "outputs": [],
   "source": [
    "fuel_codes = {\n",
    "    '5': '전기',\n",
    "    '7': '하이브리드(휘발유+전기)'\n",
    "}\n",
    "\n",
    "\n",
    "# 4) 지역 코드 및 이름\n",
    "region_codes = {\n",
    "    '1': '서울', '2': '부산', '3': '대구', '4': '인천', '5': '광주', '6': '대전', '7': '울산',\n",
    "    '8': '세종', '9': '경기', '10': '강원', '11': '충북', '12': '충남', '13': '전북',\n",
    "    '14': '전남', '15': '경북', '16': '경남', '17': '제주'\n",
    "}"
   ]
  },
  {
   "cell_type": "code",
   "execution_count": 7,
   "id": "99231a88-5d4b-4ce8-ac18-e9e3a82223d5",
   "metadata": {},
   "outputs": [],
   "source": [
    "results = []"
   ]
  },
  {
   "cell_type": "code",
   "execution_count": 10,
   "id": "63243a3a-b21f-422d-87f3-8b452071bb65",
   "metadata": {},
   "outputs": [],
   "source": [
    "for year in range(2019, 2025):            # 2019–2024\n",
    "    for month in range(1, 13):            # 월 1–12\n",
    "        for fuel_code, fuel_name in fuel_codes.items():\n",
    "            for region_code, region_name in region_codes.items():\n",
    "                params = {\n",
    "                    'ServiceKey':    service_key,\n",
    "                    'registYy':      f\"{year:04d}\",\n",
    "                    'registMt':      f\"{month:02d}\",\n",
    "                    # 'vhctyAsortCode': '1', \n",
    "                    'registGrcCode': region_code,\n",
    "                    'useFuelCode':   fuel_code\n",
    "                }\n",
    "\n",
    "                r = requests.get(BASE, params=params, timeout=5)\n",
    "                root = ET.fromstring(r.content)\n",
    "                cnt_str = root.findtext('.//body/dtaCo', default='0') or '0'\n",
    "                try:\n",
    "                    cnt = int(cnt_str)\n",
    "                except ValueError:\n",
    "                    cnt = 0\n",
    "\n",
    "                results.append({\n",
    "                    '연도':        year,\n",
    "                    '월':         month,\n",
    "                    '지역':       region_name,\n",
    "                    '연료':       fuel_name,\n",
    "                    '신규등록': cnt\n",
    "                })\n",
    "                time.sleep(0.05)"
   ]
  },
  {
   "cell_type": "code",
   "execution_count": 12,
   "id": "ed8374c7-7e3b-4e26-bcb3-64bfec61b3d3",
   "metadata": {},
   "outputs": [],
   "source": [
    "# 최종 DataFrame\n",
    "df = pd.DataFrame(results)"
   ]
  },
  {
   "cell_type": "code",
   "execution_count": 54,
   "id": "83a94cf4-44dd-4078-ac6a-2ec4c9dc2edc",
   "metadata": {},
   "outputs": [
    {
     "data": {
      "text/html": [
       "<div>\n",
       "<style scoped>\n",
       "    .dataframe tbody tr th:only-of-type {\n",
       "        vertical-align: middle;\n",
       "    }\n",
       "\n",
       "    .dataframe tbody tr th {\n",
       "        vertical-align: top;\n",
       "    }\n",
       "\n",
       "    .dataframe thead th {\n",
       "        text-align: right;\n",
       "    }\n",
       "</style>\n",
       "<table border=\"1\" class=\"dataframe\">\n",
       "  <thead>\n",
       "    <tr style=\"text-align: right;\">\n",
       "      <th></th>\n",
       "      <th>연도</th>\n",
       "      <th>월</th>\n",
       "      <th>지역</th>\n",
       "      <th>연료</th>\n",
       "      <th>신규등록 수</th>\n",
       "    </tr>\n",
       "  </thead>\n",
       "  <tbody>\n",
       "    <tr>\n",
       "      <th>0</th>\n",
       "      <td>2019</td>\n",
       "      <td>1</td>\n",
       "      <td>서울</td>\n",
       "      <td>전기</td>\n",
       "      <td>26</td>\n",
       "    </tr>\n",
       "    <tr>\n",
       "      <th>1</th>\n",
       "      <td>2019</td>\n",
       "      <td>1</td>\n",
       "      <td>부산</td>\n",
       "      <td>전기</td>\n",
       "      <td>2</td>\n",
       "    </tr>\n",
       "    <tr>\n",
       "      <th>2</th>\n",
       "      <td>2019</td>\n",
       "      <td>1</td>\n",
       "      <td>대구</td>\n",
       "      <td>전기</td>\n",
       "      <td>295</td>\n",
       "    </tr>\n",
       "    <tr>\n",
       "      <th>3</th>\n",
       "      <td>2019</td>\n",
       "      <td>1</td>\n",
       "      <td>인천</td>\n",
       "      <td>전기</td>\n",
       "      <td>6</td>\n",
       "    </tr>\n",
       "    <tr>\n",
       "      <th>4</th>\n",
       "      <td>2019</td>\n",
       "      <td>1</td>\n",
       "      <td>광주</td>\n",
       "      <td>전기</td>\n",
       "      <td>2</td>\n",
       "    </tr>\n",
       "  </tbody>\n",
       "</table>\n",
       "</div>"
      ],
      "text/plain": [
       "     연도  월  지역  연료  신규등록 수\n",
       "0  2019  1  서울  전기      26\n",
       "1  2019  1  부산  전기       2\n",
       "2  2019  1  대구  전기     295\n",
       "3  2019  1  인천  전기       6\n",
       "4  2019  1  광주  전기       2"
      ]
     },
     "execution_count": 54,
     "metadata": {},
     "output_type": "execute_result"
    }
   ],
   "source": [
    "df.head()"
   ]
  },
  {
   "cell_type": "code",
   "execution_count": 44,
   "id": "5d69e9d2-a123-4898-b33e-7b09bf0498ae",
   "metadata": {},
   "outputs": [],
   "source": [
    "\n",
    "#df.to_excel('car_new_admin_0710.xlsx', index=False)\n"
   ]
  },
  {
   "cell_type": "markdown",
   "id": "c1d7b1a7-6ee4-4c8a-81a5-a9f2813507d9",
   "metadata": {},
   "source": [
    "# DataBase에 저장하기"
   ]
  },
  {
   "cell_type": "code",
   "execution_count": 15,
   "id": "9273ddec-69ee-4380-9953-637e7e99b121",
   "metadata": {},
   "outputs": [
    {
     "name": "stdout",
     "output_type": "stream",
     "text": [
      "Collecting pymysql\n",
      "  Downloading PyMySQL-1.1.1-py3-none-any.whl.metadata (4.4 kB)\n",
      "Downloading PyMySQL-1.1.1-py3-none-any.whl (44 kB)\n",
      "Installing collected packages: pymysql\n",
      "Successfully installed pymysql-1.1.1\n",
      "Note: you may need to restart the kernel to use updated packages.\n"
     ]
    }
   ],
   "source": [
    "pip install pymysql"
   ]
  },
  {
   "cell_type": "code",
   "execution_count": 16,
   "id": "9cfcab2f-3a23-43ef-8adb-c5b4b68871e4",
   "metadata": {},
   "outputs": [],
   "source": [
    "import pymysql "
   ]
  },
  {
   "cell_type": "code",
   "execution_count": 53,
   "id": "ee640142-a8f3-438f-a724-8765383d91ec",
   "metadata": {},
   "outputs": [],
   "source": [
    "\n",
    "connection = pymysql.connect(\n",
    "    host = 'localhost',\n",
    "    user = 'mountainbyeol',\n",
    "    password = 'byeol617',\n",
    "    database = 'PJ1_db',\n",
    "    charset='utf8mb4',\n",
    "    autocommit=False\n",
    "    )\n",
    "\n",
    "\n",
    "try:\n",
    "    with connection.cursor() as cursor:\n",
    "        #테이블 생성 \n",
    "        #cursor.execute()\n",
    "        \n",
    "        sql = \"INSERT INTO car_new1 (`year`, `month`, `region`, `fuel`, `new_admin`) VALUES( %s,%s,%s,%s,%s)\"\n",
    "        for data in results:\n",
    "            cursor.execute(sql,\n",
    "                          ( data['연도'],\n",
    "                           data['월'],\n",
    "                           data['지역'],\n",
    "                           data['연료'],\n",
    "                           data['신규등록 수']\n",
    "                          )                           \n",
    "                          )\n",
    "    connection.commit()\n",
    "\n",
    "\n",
    "finally:\n",
    "    connection.close()\n",
    "                           "
   ]
  }
 ],
 "metadata": {
  "kernelspec": {
   "display_name": "Python 3 (ipykernel)",
   "language": "python",
   "name": "python3"
  },
  "language_info": {
   "codemirror_mode": {
    "name": "ipython",
    "version": 3
   },
   "file_extension": ".py",
   "mimetype": "text/x-python",
   "name": "python",
   "nbconvert_exporter": "python",
   "pygments_lexer": "ipython3",
   "version": "3.13.5"
  }
 },
 "nbformat": 4,
 "nbformat_minor": 5
}
